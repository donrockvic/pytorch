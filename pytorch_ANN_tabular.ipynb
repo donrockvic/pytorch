{
  "nbformat": 4,
  "nbformat_minor": 0,
  "metadata": {
    "kernelspec": {
      "display_name": "Python 3",
      "language": "python",
      "name": "python3"
    },
    "language_info": {
      "codemirror_mode": {
        "name": "ipython",
        "version": 3
      },
      "file_extension": ".py",
      "mimetype": "text/x-python",
      "name": "python",
      "nbconvert_exporter": "python",
      "pygments_lexer": "ipython3",
      "version": "3.7.6"
    },
    "colab": {
      "name": "pytorch_ANN_tabular.ipynb",
      "provenance": [],
      "collapsed_sections": [],
      "include_colab_link": true
    }
  },
  "cells": [
    {
      "cell_type": "markdown",
      "metadata": {
        "id": "view-in-github",
        "colab_type": "text"
      },
      "source": [
        "<a href=\"https://colab.research.google.com/github/donrockvic/pytorch/blob/master/pytorch_ANN_tabular.ipynb\" target=\"_parent\"><img src=\"https://colab.research.google.com/assets/colab-badge.svg\" alt=\"Open In Colab\"/></a>"
      ]
    },
    {
      "cell_type": "code",
      "metadata": {
        "id": "FmPTO2IuoiXY",
        "colab_type": "code",
        "colab": {}
      },
      "source": [
        "import torch\n",
        "import torch.nn as nn\n",
        "import numpy as np\n",
        "import pandas as pd\n",
        "import matplotlib.pyplot as plt"
      ],
      "execution_count": 0,
      "outputs": []
    },
    {
      "cell_type": "code",
      "metadata": {
        "id": "AuYSxKKqoiX1",
        "colab_type": "code",
        "colab": {}
      },
      "source": [
        "df = pd.read_csv('NYCTaxiFares.csv')"
      ],
      "execution_count": 0,
      "outputs": []
    },
    {
      "cell_type": "code",
      "metadata": {
        "id": "G36U03w8oiYI",
        "colab_type": "code",
        "outputId": "d68083b7-445d-40ec-b38d-80dda5b940d9",
        "colab": {
          "base_uri": "https://localhost:8080/",
          "height": 206
        }
      },
      "source": [
        "df.head()"
      ],
      "execution_count": 0,
      "outputs": [
        {
          "output_type": "execute_result",
          "data": {
            "text/html": [
              "<div>\n",
              "<style scoped>\n",
              "    .dataframe tbody tr th:only-of-type {\n",
              "        vertical-align: middle;\n",
              "    }\n",
              "\n",
              "    .dataframe tbody tr th {\n",
              "        vertical-align: top;\n",
              "    }\n",
              "\n",
              "    .dataframe thead th {\n",
              "        text-align: right;\n",
              "    }\n",
              "</style>\n",
              "<table border=\"1\" class=\"dataframe\">\n",
              "  <thead>\n",
              "    <tr style=\"text-align: right;\">\n",
              "      <th></th>\n",
              "      <th>pickup_datetime</th>\n",
              "      <th>fare_amount</th>\n",
              "      <th>fare_class</th>\n",
              "      <th>pickup_longitude</th>\n",
              "      <th>pickup_latitude</th>\n",
              "      <th>dropoff_longitude</th>\n",
              "      <th>dropoff_latitude</th>\n",
              "      <th>passenger_count</th>\n",
              "    </tr>\n",
              "  </thead>\n",
              "  <tbody>\n",
              "    <tr>\n",
              "      <th>0</th>\n",
              "      <td>2010-04-19 08:17:56 UTC</td>\n",
              "      <td>6.5</td>\n",
              "      <td>0</td>\n",
              "      <td>-73.992365</td>\n",
              "      <td>40.730521</td>\n",
              "      <td>-73.975499</td>\n",
              "      <td>40.744746</td>\n",
              "      <td>1</td>\n",
              "    </tr>\n",
              "    <tr>\n",
              "      <th>1</th>\n",
              "      <td>2010-04-17 15:43:53 UTC</td>\n",
              "      <td>6.9</td>\n",
              "      <td>0</td>\n",
              "      <td>-73.990078</td>\n",
              "      <td>40.740558</td>\n",
              "      <td>-73.974232</td>\n",
              "      <td>40.744114</td>\n",
              "      <td>1</td>\n",
              "    </tr>\n",
              "    <tr>\n",
              "      <th>2</th>\n",
              "      <td>2010-04-17 11:23:26 UTC</td>\n",
              "      <td>10.1</td>\n",
              "      <td>1</td>\n",
              "      <td>-73.994149</td>\n",
              "      <td>40.751118</td>\n",
              "      <td>-73.960064</td>\n",
              "      <td>40.766235</td>\n",
              "      <td>2</td>\n",
              "    </tr>\n",
              "    <tr>\n",
              "      <th>3</th>\n",
              "      <td>2010-04-11 21:25:03 UTC</td>\n",
              "      <td>8.9</td>\n",
              "      <td>0</td>\n",
              "      <td>-73.990485</td>\n",
              "      <td>40.756422</td>\n",
              "      <td>-73.971205</td>\n",
              "      <td>40.748192</td>\n",
              "      <td>1</td>\n",
              "    </tr>\n",
              "    <tr>\n",
              "      <th>4</th>\n",
              "      <td>2010-04-17 02:19:01 UTC</td>\n",
              "      <td>19.7</td>\n",
              "      <td>1</td>\n",
              "      <td>-73.990976</td>\n",
              "      <td>40.734202</td>\n",
              "      <td>-73.905956</td>\n",
              "      <td>40.743115</td>\n",
              "      <td>1</td>\n",
              "    </tr>\n",
              "  </tbody>\n",
              "</table>\n",
              "</div>"
            ],
            "text/plain": [
              "           pickup_datetime  fare_amount  ...  dropoff_latitude  passenger_count\n",
              "0  2010-04-19 08:17:56 UTC          6.5  ...         40.744746                1\n",
              "1  2010-04-17 15:43:53 UTC          6.9  ...         40.744114                1\n",
              "2  2010-04-17 11:23:26 UTC         10.1  ...         40.766235                2\n",
              "3  2010-04-11 21:25:03 UTC          8.9  ...         40.748192                1\n",
              "4  2010-04-17 02:19:01 UTC         19.7  ...         40.743115                1\n",
              "\n",
              "[5 rows x 8 columns]"
            ]
          },
          "metadata": {
            "tags": []
          },
          "execution_count": 12
        }
      ]
    },
    {
      "cell_type": "code",
      "metadata": {
        "id": "ddPy_QkAoiYc",
        "colab_type": "code",
        "outputId": "63d4cc14-6911-4669-a039-b70e777730a2",
        "colab": {
          "base_uri": "https://localhost:8080/",
          "height": 173
        }
      },
      "source": [
        "df['fare_amount'].describe()"
      ],
      "execution_count": 0,
      "outputs": [
        {
          "output_type": "execute_result",
          "data": {
            "text/plain": [
              "count    120000.000000\n",
              "mean         10.040326\n",
              "std           7.500134\n",
              "min           2.500000\n",
              "25%           5.700000\n",
              "50%           7.700000\n",
              "75%          11.300000\n",
              "max          49.900000\n",
              "Name: fare_amount, dtype: float64"
            ]
          },
          "metadata": {
            "tags": []
          },
          "execution_count": 13
        }
      ]
    },
    {
      "cell_type": "code",
      "metadata": {
        "id": "7zkoqEdwoiYr",
        "colab_type": "code",
        "colab": {}
      },
      "source": [
        " def haversine_distance(df, lat1, long1, lat2, long2):\n",
        "    \"\"\"\n",
        "    Calculates the haversine distance between 2 sets of GPS coordinates in df\n",
        "    \"\"\"\n",
        "    r = 6371  # average radius of Earth in kilometers\n",
        "       \n",
        "    phi1 = np.radians(df[lat1])\n",
        "    phi2 = np.radians(df[lat2])\n",
        "    \n",
        "    delta_phi = np.radians(df[lat2]-df[lat1])\n",
        "    delta_lambda = np.radians(df[long2]-df[long1])\n",
        "     \n",
        "    a = np.sin(delta_phi/2)**2 + np.cos(phi1) * np.cos(phi2) * np.sin(delta_lambda/2)**2\n",
        "    c = 2 * np.arctan2(np.sqrt(a), np.sqrt(1-a))\n",
        "    d = (r * c) # in kilometers\n",
        "\n",
        "    return d"
      ],
      "execution_count": 0,
      "outputs": []
    },
    {
      "cell_type": "code",
      "metadata": {
        "id": "nOvY7jfcoiY8",
        "colab_type": "code",
        "colab": {}
      },
      "source": [
        "df['dist_km'] = haversine_distance(df,'pickup_longitude','pickup_latitude','dropoff_longitude','dropoff_latitude')"
      ],
      "execution_count": 0,
      "outputs": []
    },
    {
      "cell_type": "code",
      "metadata": {
        "id": "U11LL-73oiZX",
        "colab_type": "code",
        "outputId": "10c653db-6a82-4f8d-9918-645d06caff4a",
        "colab": {
          "base_uri": "https://localhost:8080/",
          "height": 86
        }
      },
      "source": [
        "df.columns"
      ],
      "execution_count": 0,
      "outputs": [
        {
          "output_type": "execute_result",
          "data": {
            "text/plain": [
              "Index(['pickup_datetime', 'fare_amount', 'fare_class', 'pickup_longitude',\n",
              "       'pickup_latitude', 'dropoff_longitude', 'dropoff_latitude',\n",
              "       'passenger_count', 'dist_km'],\n",
              "      dtype='object')"
            ]
          },
          "metadata": {
            "tags": []
          },
          "execution_count": 16
        }
      ]
    },
    {
      "cell_type": "code",
      "metadata": {
        "id": "oFT9QmEooiZg",
        "colab_type": "code",
        "outputId": "bd4f5e90-6eac-4594-91ff-d5a9342c4dc2",
        "colab": {
          "base_uri": "https://localhost:8080/",
          "height": 293
        }
      },
      "source": [
        "df.head()"
      ],
      "execution_count": 0,
      "outputs": [
        {
          "output_type": "execute_result",
          "data": {
            "text/html": [
              "<div>\n",
              "<style scoped>\n",
              "    .dataframe tbody tr th:only-of-type {\n",
              "        vertical-align: middle;\n",
              "    }\n",
              "\n",
              "    .dataframe tbody tr th {\n",
              "        vertical-align: top;\n",
              "    }\n",
              "\n",
              "    .dataframe thead th {\n",
              "        text-align: right;\n",
              "    }\n",
              "</style>\n",
              "<table border=\"1\" class=\"dataframe\">\n",
              "  <thead>\n",
              "    <tr style=\"text-align: right;\">\n",
              "      <th></th>\n",
              "      <th>pickup_datetime</th>\n",
              "      <th>fare_amount</th>\n",
              "      <th>fare_class</th>\n",
              "      <th>pickup_longitude</th>\n",
              "      <th>pickup_latitude</th>\n",
              "      <th>dropoff_longitude</th>\n",
              "      <th>dropoff_latitude</th>\n",
              "      <th>passenger_count</th>\n",
              "      <th>dist_km</th>\n",
              "    </tr>\n",
              "  </thead>\n",
              "  <tbody>\n",
              "    <tr>\n",
              "      <th>0</th>\n",
              "      <td>2010-04-19 08:17:56 UTC</td>\n",
              "      <td>6.5</td>\n",
              "      <td>0</td>\n",
              "      <td>-73.992365</td>\n",
              "      <td>40.730521</td>\n",
              "      <td>-73.975499</td>\n",
              "      <td>40.744746</td>\n",
              "      <td>1</td>\n",
              "      <td>1.925522</td>\n",
              "    </tr>\n",
              "    <tr>\n",
              "      <th>1</th>\n",
              "      <td>2010-04-17 15:43:53 UTC</td>\n",
              "      <td>6.9</td>\n",
              "      <td>0</td>\n",
              "      <td>-73.990078</td>\n",
              "      <td>40.740558</td>\n",
              "      <td>-73.974232</td>\n",
              "      <td>40.744114</td>\n",
              "      <td>1</td>\n",
              "      <td>1.765370</td>\n",
              "    </tr>\n",
              "    <tr>\n",
              "      <th>2</th>\n",
              "      <td>2010-04-17 11:23:26 UTC</td>\n",
              "      <td>10.1</td>\n",
              "      <td>1</td>\n",
              "      <td>-73.994149</td>\n",
              "      <td>40.751118</td>\n",
              "      <td>-73.960064</td>\n",
              "      <td>40.766235</td>\n",
              "      <td>2</td>\n",
              "      <td>3.818373</td>\n",
              "    </tr>\n",
              "    <tr>\n",
              "      <th>3</th>\n",
              "      <td>2010-04-11 21:25:03 UTC</td>\n",
              "      <td>8.9</td>\n",
              "      <td>0</td>\n",
              "      <td>-73.990485</td>\n",
              "      <td>40.756422</td>\n",
              "      <td>-73.971205</td>\n",
              "      <td>40.748192</td>\n",
              "      <td>1</td>\n",
              "      <td>2.158661</td>\n",
              "    </tr>\n",
              "    <tr>\n",
              "      <th>4</th>\n",
              "      <td>2010-04-17 02:19:01 UTC</td>\n",
              "      <td>19.7</td>\n",
              "      <td>1</td>\n",
              "      <td>-73.990976</td>\n",
              "      <td>40.734202</td>\n",
              "      <td>-73.905956</td>\n",
              "      <td>40.743115</td>\n",
              "      <td>1</td>\n",
              "      <td>9.457764</td>\n",
              "    </tr>\n",
              "  </tbody>\n",
              "</table>\n",
              "</div>"
            ],
            "text/plain": [
              "           pickup_datetime  fare_amount  ...  passenger_count   dist_km\n",
              "0  2010-04-19 08:17:56 UTC          6.5  ...                1  1.925522\n",
              "1  2010-04-17 15:43:53 UTC          6.9  ...                1  1.765370\n",
              "2  2010-04-17 11:23:26 UTC         10.1  ...                2  3.818373\n",
              "3  2010-04-11 21:25:03 UTC          8.9  ...                1  2.158661\n",
              "4  2010-04-17 02:19:01 UTC         19.7  ...                1  9.457764\n",
              "\n",
              "[5 rows x 9 columns]"
            ]
          },
          "metadata": {
            "tags": []
          },
          "execution_count": 17
        }
      ]
    },
    {
      "cell_type": "code",
      "metadata": {
        "id": "OGFFJENLoiZu",
        "colab_type": "code",
        "colab": {}
      },
      "source": [
        "df['pickup_datetime']=pd.to_datetime(df['pickup_datetime'])"
      ],
      "execution_count": 0,
      "outputs": []
    },
    {
      "cell_type": "code",
      "metadata": {
        "id": "ctY3CrgpoiZ8",
        "colab_type": "code",
        "outputId": "b1252b54-4a3a-4d8e-aadb-d4e62a6a0bab",
        "colab": {
          "base_uri": "https://localhost:8080/",
          "height": 260
        }
      },
      "source": [
        "df.info()"
      ],
      "execution_count": 0,
      "outputs": [
        {
          "output_type": "stream",
          "text": [
            "<class 'pandas.core.frame.DataFrame'>\n",
            "RangeIndex: 120000 entries, 0 to 119999\n",
            "Data columns (total 9 columns):\n",
            "pickup_datetime      120000 non-null datetime64[ns, UTC]\n",
            "fare_amount          120000 non-null float64\n",
            "fare_class           120000 non-null int64\n",
            "pickup_longitude     120000 non-null float64\n",
            "pickup_latitude      120000 non-null float64\n",
            "dropoff_longitude    120000 non-null float64\n",
            "dropoff_latitude     120000 non-null float64\n",
            "passenger_count      120000 non-null int64\n",
            "dist_km              120000 non-null float64\n",
            "dtypes: datetime64[ns, UTC](1), float64(6), int64(2)\n",
            "memory usage: 8.2 MB\n"
          ],
          "name": "stdout"
        }
      ]
    },
    {
      "cell_type": "code",
      "metadata": {
        "id": "VGdMDQJHoiaJ",
        "colab_type": "code",
        "colab": {}
      },
      "source": [
        "df['EDTdate'] = df['pickup_datetime'] - pd.Timedelta(hours=4)"
      ],
      "execution_count": 0,
      "outputs": []
    },
    {
      "cell_type": "code",
      "metadata": {
        "id": "yOLiOLfioiaX",
        "colab_type": "code",
        "colab": {}
      },
      "source": [
        "df['Hour'] = df['EDTdate'].dt.hour"
      ],
      "execution_count": 0,
      "outputs": []
    },
    {
      "cell_type": "code",
      "metadata": {
        "id": "qp9StpD7oiai",
        "colab_type": "code",
        "colab": {}
      },
      "source": [
        "df['AMorPM'] = np.where(df['Hour'] < 12, 'am','pm')"
      ],
      "execution_count": 0,
      "outputs": []
    },
    {
      "cell_type": "code",
      "metadata": {
        "id": "PVcHcPVJoiay",
        "colab_type": "code",
        "colab": {}
      },
      "source": [
        "df['weekday'] = df['EDTdate'].dt.strftime('%a')  #dt.dayofweek"
      ],
      "execution_count": 0,
      "outputs": []
    },
    {
      "cell_type": "code",
      "metadata": {
        "id": "sDWfGWKboia-",
        "colab_type": "code",
        "colab": {}
      },
      "source": [
        "cat_cols = ['Hour','AMorPM','weekday']\n",
        "cont_cols = [ 'pickup_longitude','pickup_latitude', 'dropoff_longitude', 'dropoff_latitude','passenger_count','dist_km']"
      ],
      "execution_count": 0,
      "outputs": []
    },
    {
      "cell_type": "code",
      "metadata": {
        "id": "UVNvyxaloibH",
        "colab_type": "code",
        "colab": {}
      },
      "source": [
        "y_col = df['fare_amount']"
      ],
      "execution_count": 0,
      "outputs": []
    },
    {
      "cell_type": "code",
      "metadata": {
        "id": "WpwyswCHoibP",
        "colab_type": "code",
        "colab": {}
      },
      "source": [
        "for cat in cat_cols:\n",
        "    df[cat] = df[cat].astype('category')"
      ],
      "execution_count": 0,
      "outputs": []
    },
    {
      "cell_type": "code",
      "metadata": {
        "id": "n-_ceJSuoibZ",
        "colab_type": "code",
        "outputId": "fd9b2064-ec29-40b2-cb95-7423e4e121dc",
        "colab": {
          "base_uri": "https://localhost:8080/",
          "height": 260
        }
      },
      "source": [
        "df.dtypes"
      ],
      "execution_count": 0,
      "outputs": [
        {
          "output_type": "execute_result",
          "data": {
            "text/plain": [
              "pickup_datetime      datetime64[ns, UTC]\n",
              "fare_amount                      float64\n",
              "fare_class                         int64\n",
              "pickup_longitude                 float64\n",
              "pickup_latitude                  float64\n",
              "dropoff_longitude                float64\n",
              "dropoff_latitude                 float64\n",
              "passenger_count                    int64\n",
              "dist_km                          float64\n",
              "EDTdate              datetime64[ns, UTC]\n",
              "Hour                            category\n",
              "AMorPM                          category\n",
              "weekday                         category\n",
              "dtype: object"
            ]
          },
          "metadata": {
            "tags": []
          },
          "execution_count": 27
        }
      ]
    },
    {
      "cell_type": "code",
      "metadata": {
        "id": "9_kdt8xeoibi",
        "colab_type": "code",
        "outputId": "561802ff-e547-42f9-8691-cb81a87b72d1",
        "colab": {
          "base_uri": "https://localhost:8080/",
          "height": 139
        }
      },
      "source": [
        "df['weekday'].head()"
      ],
      "execution_count": 0,
      "outputs": [
        {
          "output_type": "execute_result",
          "data": {
            "text/plain": [
              "0    Mon\n",
              "1    Sat\n",
              "2    Sat\n",
              "3    Sun\n",
              "4    Fri\n",
              "Name: weekday, dtype: category\n",
              "Categories (7, object): [Fri, Mon, Sat, Sun, Thu, Tue, Wed]"
            ]
          },
          "metadata": {
            "tags": []
          },
          "execution_count": 28
        }
      ]
    },
    {
      "cell_type": "code",
      "metadata": {
        "id": "Zi4ppm0toibs",
        "colab_type": "code",
        "outputId": "7a205830-75a8-40c1-8294-996672ebdae5",
        "colab": {
          "base_uri": "https://localhost:8080/",
          "height": 225
        }
      },
      "source": [
        "df['weekday'].cat.codes"
      ],
      "execution_count": 0,
      "outputs": [
        {
          "output_type": "execute_result",
          "data": {
            "text/plain": [
              "0         1\n",
              "1         2\n",
              "2         2\n",
              "3         3\n",
              "4         0\n",
              "         ..\n",
              "119995    3\n",
              "119996    0\n",
              "119997    3\n",
              "119998    5\n",
              "119999    2\n",
              "Length: 120000, dtype: int8"
            ]
          },
          "metadata": {
            "tags": []
          },
          "execution_count": 29
        }
      ]
    },
    {
      "cell_type": "code",
      "metadata": {
        "id": "p4adAhRcoib0",
        "colab_type": "code",
        "outputId": "37496ead-d89a-438f-8517-146205038be5",
        "colab": {
          "base_uri": "https://localhost:8080/",
          "height": 34
        }
      },
      "source": [
        "df['weekday'].cat.codes.values"
      ],
      "execution_count": 0,
      "outputs": [
        {
          "output_type": "execute_result",
          "data": {
            "text/plain": [
              "array([1, 2, 2, ..., 3, 5, 2], dtype=int8)"
            ]
          },
          "metadata": {
            "tags": []
          },
          "execution_count": 30
        }
      ]
    },
    {
      "cell_type": "code",
      "metadata": {
        "id": "lRDaUO3woicC",
        "colab_type": "code",
        "outputId": "cd5f28fa-18e8-4a41-f26e-c02361dced9e",
        "colab": {
          "base_uri": "https://localhost:8080/",
          "height": 34
        }
      },
      "source": [
        "df['weekday'].cat.categories"
      ],
      "execution_count": 0,
      "outputs": [
        {
          "output_type": "execute_result",
          "data": {
            "text/plain": [
              "Index(['Fri', 'Mon', 'Sat', 'Sun', 'Thu', 'Tue', 'Wed'], dtype='object')"
            ]
          },
          "metadata": {
            "tags": []
          },
          "execution_count": 31
        }
      ]
    },
    {
      "cell_type": "code",
      "metadata": {
        "id": "9mxzpVULoicN",
        "colab_type": "code",
        "colab": {}
      },
      "source": [
        "hr = df['Hour'].cat.codes.values\n",
        "ampm = df['AMorPM'].cat.codes.values\n",
        "wkdy = df['weekday'].cat.codes.values"
      ],
      "execution_count": 0,
      "outputs": []
    },
    {
      "cell_type": "code",
      "metadata": {
        "id": "DT1dVrkNoicT",
        "colab_type": "code",
        "outputId": "038dd868-c2e1-42cd-abf8-e6b715fa1f98",
        "colab": {
          "base_uri": "https://localhost:8080/",
          "height": 34
        }
      },
      "source": [
        "hr"
      ],
      "execution_count": 0,
      "outputs": [
        {
          "output_type": "execute_result",
          "data": {
            "text/plain": [
              "array([ 4, 11,  7, ..., 14,  4, 12], dtype=int8)"
            ]
          },
          "metadata": {
            "tags": []
          },
          "execution_count": 33
        }
      ]
    },
    {
      "cell_type": "code",
      "metadata": {
        "id": "uUDZF_f8oicf",
        "colab_type": "code",
        "colab": {}
      },
      "source": [
        "cats = np.stack([hr,ampm,wkdy], axis = 1)"
      ],
      "execution_count": 0,
      "outputs": []
    },
    {
      "cell_type": "code",
      "metadata": {
        "id": "ql79scGeoicl",
        "colab_type": "code",
        "outputId": "a13ebd41-4290-403a-fe96-762cd55ae8dc",
        "colab": {
          "base_uri": "https://localhost:8080/",
          "height": 139
        }
      },
      "source": [
        "cats"
      ],
      "execution_count": 0,
      "outputs": [
        {
          "output_type": "execute_result",
          "data": {
            "text/plain": [
              "tensor([[ 4,  0,  1],\n",
              "        [11,  0,  2],\n",
              "        [ 7,  0,  2],\n",
              "        ...,\n",
              "        [14,  1,  3],\n",
              "        [ 4,  0,  5],\n",
              "        [12,  1,  2]])"
            ]
          },
          "metadata": {
            "tags": []
          },
          "execution_count": 80
        }
      ]
    },
    {
      "cell_type": "code",
      "metadata": {
        "id": "gW0Nh9bLoicw",
        "colab_type": "code",
        "colab": {}
      },
      "source": [
        "#cats = np.stack([df[col].cat.codes.values for col in cat_cols], 1)"
      ],
      "execution_count": 0,
      "outputs": []
    },
    {
      "cell_type": "code",
      "metadata": {
        "id": "9chl3AUWoic1",
        "colab_type": "code",
        "outputId": "a737a851-bbe7-4bd4-f7ac-f47c16abc347",
        "colab": {
          "base_uri": "https://localhost:8080/",
          "height": 193
        }
      },
      "source": [
        "cats = torch.tensor(cats, dtype=torch.int64)\n",
        "cats"
      ],
      "execution_count": 0,
      "outputs": [
        {
          "output_type": "stream",
          "text": [
            "/usr/local/lib/python3.6/dist-packages/ipykernel_launcher.py:1: UserWarning: To copy construct from a tensor, it is recommended to use sourceTensor.clone().detach() or sourceTensor.clone().detach().requires_grad_(True), rather than torch.tensor(sourceTensor).\n",
            "  \"\"\"Entry point for launching an IPython kernel.\n"
          ],
          "name": "stderr"
        },
        {
          "output_type": "execute_result",
          "data": {
            "text/plain": [
              "tensor([[ 4,  0,  1],\n",
              "        [11,  0,  2],\n",
              "        [ 7,  0,  2],\n",
              "        ...,\n",
              "        [14,  1,  3],\n",
              "        [ 4,  0,  5],\n",
              "        [12,  1,  2]])"
            ]
          },
          "metadata": {
            "tags": []
          },
          "execution_count": 78
        }
      ]
    },
    {
      "cell_type": "code",
      "metadata": {
        "id": "m7ptY6Pfoic_",
        "colab_type": "code",
        "colab": {}
      },
      "source": [
        "conts = np.stack([df[col].values for col in cont_cols], axis =1 )"
      ],
      "execution_count": 0,
      "outputs": []
    },
    {
      "cell_type": "code",
      "metadata": {
        "id": "ibeHXPwgoidI",
        "colab_type": "code",
        "colab": {}
      },
      "source": [
        "conts = torch.tensor(conts, dtype =  torch.float)"
      ],
      "execution_count": 0,
      "outputs": []
    },
    {
      "cell_type": "code",
      "metadata": {
        "id": "TKs8S58doidX",
        "colab_type": "code",
        "colab": {}
      },
      "source": [
        "y = torch.tensor(y_col.values, dtype=torch.float).reshape(-1,1)"
      ],
      "execution_count": 0,
      "outputs": []
    },
    {
      "cell_type": "code",
      "metadata": {
        "id": "ye8mDHw4oidg",
        "colab_type": "code",
        "outputId": "1e8f1472-4f2d-4df8-a8fb-810bf14ae69e",
        "colab": {
          "base_uri": "https://localhost:8080/",
          "height": 139
        }
      },
      "source": [
        "y"
      ],
      "execution_count": 0,
      "outputs": [
        {
          "output_type": "execute_result",
          "data": {
            "text/plain": [
              "tensor([[ 6.5000],\n",
              "        [ 6.9000],\n",
              "        [10.1000],\n",
              "        ...,\n",
              "        [12.5000],\n",
              "        [ 4.9000],\n",
              "        [ 5.3000]])"
            ]
          },
          "metadata": {
            "tags": []
          },
          "execution_count": 41
        }
      ]
    },
    {
      "cell_type": "code",
      "metadata": {
        "id": "CwZO2O_Ioido",
        "colab_type": "code",
        "outputId": "a8085c6d-c823-461b-f30d-7da3bbef123e",
        "colab": {
          "base_uri": "https://localhost:8080/",
          "height": 34
        }
      },
      "source": [
        "cats.shape"
      ],
      "execution_count": 0,
      "outputs": [
        {
          "output_type": "execute_result",
          "data": {
            "text/plain": [
              "torch.Size([120000, 3])"
            ]
          },
          "metadata": {
            "tags": []
          },
          "execution_count": 42
        }
      ]
    },
    {
      "cell_type": "code",
      "metadata": {
        "id": "ghIFwgEyoidv",
        "colab_type": "code",
        "outputId": "387d0ff5-f9a2-4b5f-ca19-2671b0bea3da",
        "colab": {
          "base_uri": "https://localhost:8080/",
          "height": 34
        }
      },
      "source": [
        "conts.shape"
      ],
      "execution_count": 0,
      "outputs": [
        {
          "output_type": "execute_result",
          "data": {
            "text/plain": [
              "torch.Size([120000, 6])"
            ]
          },
          "metadata": {
            "tags": []
          },
          "execution_count": 43
        }
      ]
    },
    {
      "cell_type": "code",
      "metadata": {
        "id": "gG3gyaNMoid1",
        "colab_type": "code",
        "outputId": "0e34a4fc-51cd-42e8-8baa-476753c3d446",
        "colab": {
          "base_uri": "https://localhost:8080/",
          "height": 34
        }
      },
      "source": [
        "y.shape"
      ],
      "execution_count": 0,
      "outputs": [
        {
          "output_type": "execute_result",
          "data": {
            "text/plain": [
              "torch.Size([120000, 1])"
            ]
          },
          "metadata": {
            "tags": []
          },
          "execution_count": 44
        }
      ]
    },
    {
      "cell_type": "code",
      "metadata": {
        "id": "l34zHpjPoid7",
        "colab_type": "code",
        "colab": {}
      },
      "source": [
        "cat_szs = [len(df[col].cat.categories) for col in cat_cols]"
      ],
      "execution_count": 0,
      "outputs": []
    },
    {
      "cell_type": "code",
      "metadata": {
        "id": "EO872L8woieE",
        "colab_type": "code",
        "outputId": "b39e2eb3-22c4-433d-de04-a8faa14e621e",
        "colab": {
          "base_uri": "https://localhost:8080/",
          "height": 34
        }
      },
      "source": [
        "cat_szs"
      ],
      "execution_count": 0,
      "outputs": [
        {
          "output_type": "execute_result",
          "data": {
            "text/plain": [
              "[24, 2, 7]"
            ]
          },
          "metadata": {
            "tags": []
          },
          "execution_count": 46
        }
      ]
    },
    {
      "cell_type": "code",
      "metadata": {
        "id": "lD-rTSlToieJ",
        "colab_type": "code",
        "colab": {}
      },
      "source": [
        "emb_szs = [(size,min(50,(size+1)//2)) for size in cat_szs]"
      ],
      "execution_count": 0,
      "outputs": []
    },
    {
      "cell_type": "code",
      "metadata": {
        "id": "MBsNlNRZoieR",
        "colab_type": "code",
        "outputId": "0cdfc9b0-6b69-4f70-98d5-f43ec58ad712",
        "colab": {
          "base_uri": "https://localhost:8080/",
          "height": 34
        }
      },
      "source": [
        "emb_szs"
      ],
      "execution_count": 0,
      "outputs": [
        {
          "output_type": "execute_result",
          "data": {
            "text/plain": [
              "[(24, 12), (2, 1), (7, 4)]"
            ]
          },
          "metadata": {
            "tags": []
          },
          "execution_count": 48
        }
      ]
    },
    {
      "cell_type": "code",
      "metadata": {
        "id": "whmq-MXxoieW",
        "colab_type": "code",
        "colab": {}
      },
      "source": [
        "catz = cats[:4]"
      ],
      "execution_count": 0,
      "outputs": []
    },
    {
      "cell_type": "code",
      "metadata": {
        "id": "_AelJ19yoiek",
        "colab_type": "code",
        "colab": {}
      },
      "source": [
        "selfembeds = nn.ModuleList([nn.Embedding(ni, nf) for ni,nf in emb_szs])"
      ],
      "execution_count": 0,
      "outputs": []
    },
    {
      "cell_type": "code",
      "metadata": {
        "id": "3W7scTZvoiep",
        "colab_type": "code",
        "outputId": "fc5d036d-d158-4fd1-fdc0-dd0573f5874c",
        "colab": {
          "base_uri": "https://localhost:8080/",
          "height": 104
        }
      },
      "source": [
        "selfembeds"
      ],
      "execution_count": 0,
      "outputs": [
        {
          "output_type": "execute_result",
          "data": {
            "text/plain": [
              "ModuleList(\n",
              "  (0): Embedding(24, 12)\n",
              "  (1): Embedding(2, 1)\n",
              "  (2): Embedding(7, 4)\n",
              ")"
            ]
          },
          "metadata": {
            "tags": []
          },
          "execution_count": 76
        }
      ]
    },
    {
      "cell_type": "code",
      "metadata": {
        "id": "ZGZyn7rEoie0",
        "colab_type": "code",
        "colab": {}
      },
      "source": [
        "embeddingz = []\n",
        "for i,e in enumerate(selfembeds):\n",
        "    embeddingz.append(e(catz[:,i]))"
      ],
      "execution_count": 0,
      "outputs": []
    },
    {
      "cell_type": "code",
      "metadata": {
        "id": "WXkSuH24oie7",
        "colab_type": "code",
        "outputId": "a1fe1aa0-ef0a-4c86-ecc4-13ae514db1d5",
        "colab": {
          "base_uri": "https://localhost:8080/",
          "height": 295
        }
      },
      "source": [
        "embeddingz"
      ],
      "execution_count": 0,
      "outputs": [
        {
          "output_type": "execute_result",
          "data": {
            "text/plain": [
              "[tensor([[-2.1319, -0.6447,  0.8341, -0.6201, -0.5235,  0.1554,  0.2930, -0.4366,\n",
              "           2.2260,  0.1512, -0.3793, -0.2725],\n",
              "         [-0.3371,  0.7107,  2.5442,  1.1296, -0.4475,  0.0518,  0.4763, -0.4248,\n",
              "           1.1406,  0.3541, -1.1422, -0.5761],\n",
              "         [ 0.6106,  0.6709, -1.3025,  1.5371, -0.5076, -1.4752, -0.6697,  0.0845,\n",
              "           0.5203,  1.2858, -0.0416, -0.8415],\n",
              "         [ 0.5360, -0.4213, -0.1946,  1.1615, -0.1046,  1.0667, -0.4492, -0.8768,\n",
              "          -2.0357, -0.6318, -1.9019, -1.6997]], grad_fn=<EmbeddingBackward>),\n",
              " tensor([[-1.9416],\n",
              "         [-1.9416],\n",
              "         [-1.9416],\n",
              "         [-0.6557]], grad_fn=<EmbeddingBackward>),\n",
              " tensor([[ 0.5778, -1.2445,  0.0413, -0.3707],\n",
              "         [-1.0863, -1.6925, -1.3486, -0.0914],\n",
              "         [-1.0863, -1.6925, -1.3486, -0.0914],\n",
              "         [ 0.4143, -1.2639,  0.2615, -0.5434]], grad_fn=<EmbeddingBackward>)]"
            ]
          },
          "metadata": {
            "tags": []
          },
          "execution_count": 53
        }
      ]
    },
    {
      "cell_type": "code",
      "metadata": {
        "id": "5SwTEph0oifD",
        "colab_type": "code",
        "colab": {}
      },
      "source": [
        "z = torch.cat(embeddingz,1)"
      ],
      "execution_count": 0,
      "outputs": []
    },
    {
      "cell_type": "code",
      "metadata": {
        "id": "FaIPCAVAoifJ",
        "colab_type": "code",
        "outputId": "a3da6020-9571-4bf3-9d85-13dd2600b377",
        "colab": {
          "base_uri": "https://localhost:8080/",
          "height": 225
        }
      },
      "source": [
        "z"
      ],
      "execution_count": 0,
      "outputs": [
        {
          "output_type": "execute_result",
          "data": {
            "text/plain": [
              "tensor([[-2.1319, -0.6447,  0.8341, -0.6201, -0.5235,  0.1554,  0.2930, -0.4366,\n",
              "          2.2260,  0.1512, -0.3793, -0.2725, -1.9416,  0.5778, -1.2445,  0.0413,\n",
              "         -0.3707],\n",
              "        [-0.3371,  0.7107,  2.5442,  1.1296, -0.4475,  0.0518,  0.4763, -0.4248,\n",
              "          1.1406,  0.3541, -1.1422, -0.5761, -1.9416, -1.0863, -1.6925, -1.3486,\n",
              "         -0.0914],\n",
              "        [ 0.6106,  0.6709, -1.3025,  1.5371, -0.5076, -1.4752, -0.6697,  0.0845,\n",
              "          0.5203,  1.2858, -0.0416, -0.8415, -1.9416, -1.0863, -1.6925, -1.3486,\n",
              "         -0.0914],\n",
              "        [ 0.5360, -0.4213, -0.1946,  1.1615, -0.1046,  1.0667, -0.4492, -0.8768,\n",
              "         -2.0357, -0.6318, -1.9019, -1.6997, -0.6557,  0.4143, -1.2639,  0.2615,\n",
              "         -0.5434]], grad_fn=<CatBackward>)"
            ]
          },
          "metadata": {
            "tags": []
          },
          "execution_count": 55
        }
      ]
    },
    {
      "cell_type": "code",
      "metadata": {
        "id": "jB3Naw1eoifU",
        "colab_type": "code",
        "colab": {}
      },
      "source": [
        "selfembdrope = nn.Dropout(0.4)"
      ],
      "execution_count": 0,
      "outputs": []
    },
    {
      "cell_type": "code",
      "metadata": {
        "id": "-5_E6TPOoifZ",
        "colab_type": "code",
        "colab": {}
      },
      "source": [
        "z= selfembdrope(z)"
      ],
      "execution_count": 0,
      "outputs": []
    },
    {
      "cell_type": "code",
      "metadata": {
        "id": "ZG5iN9Ifoiff",
        "colab_type": "code",
        "outputId": "f021e293-4303-44ee-acd8-02cdc502a8be",
        "colab": {
          "base_uri": "https://localhost:8080/",
          "height": 225
        }
      },
      "source": [
        "z"
      ],
      "execution_count": 0,
      "outputs": [
        {
          "output_type": "execute_result",
          "data": {
            "text/plain": [
              "tensor([[-3.5531, -1.0744,  0.0000, -1.0335, -0.0000,  0.2590,  0.4883, -0.0000,\n",
              "          0.0000,  0.0000, -0.6321, -0.0000, -3.2361,  0.9630, -0.0000,  0.0689,\n",
              "         -0.6178],\n",
              "        [-0.5619,  1.1846,  0.0000,  1.8826, -0.0000,  0.0000,  0.7938, -0.0000,\n",
              "          1.9011,  0.5902, -0.0000, -0.0000, -3.2361, -1.8106, -2.8209, -2.2476,\n",
              "         -0.1524],\n",
              "        [ 0.0000,  1.1182, -0.0000,  0.0000, -0.0000, -0.0000, -1.1162,  0.0000,\n",
              "          0.8672,  2.1430, -0.0694, -1.4025, -3.2361, -0.0000, -2.8209, -2.2476,\n",
              "         -0.1524],\n",
              "        [ 0.8933, -0.0000, -0.0000,  1.9358, -0.1744,  1.7778, -0.7486, -1.4613,\n",
              "         -0.0000, -1.0530, -0.0000, -0.0000, -1.0929,  0.0000, -2.1065,  0.0000,\n",
              "         -0.9057]], grad_fn=<MulBackward0>)"
            ]
          },
          "metadata": {
            "tags": []
          },
          "execution_count": 58
        }
      ]
    },
    {
      "cell_type": "code",
      "metadata": {
        "id": "JGgOQOhPoifs",
        "colab_type": "code",
        "colab": {}
      },
      "source": [
        "class TabularModel(nn.Module):\n",
        "\n",
        "    def __init__(self, emb_szs, n_cont, out_sz, layers, p=0.5):\n",
        "        super().__init__()\n",
        "        self.embeds = nn.ModuleList([nn.Embedding(ni, nf) for ni,nf in emb_szs])\n",
        "        self.emb_drop = nn.Dropout(p)\n",
        "        self.bn_cont = nn.BatchNorm1d(n_cont)\n",
        "        \n",
        "        layerlist = []\n",
        "        n_emb = sum((nf for ni,nf in emb_szs))\n",
        "        n_in = n_emb + n_cont\n",
        "        \n",
        "        for i in layers:\n",
        "            layerlist.append(nn.Linear(n_in,i)) \n",
        "            layerlist.append(nn.ReLU(inplace=True))\n",
        "            layerlist.append(nn.BatchNorm1d(i))\n",
        "            layerlist.append(nn.Dropout(p))\n",
        "            n_in = i\n",
        "        layerlist.append(nn.Linear(layers[-1],out_sz))\n",
        "            \n",
        "        self.layers = nn.Sequential(*layerlist)\n",
        "    \n",
        "    def forward(self, x_cat, x_cont):\n",
        "        embeddings = []\n",
        "        for i,e in enumerate(self.embeds):\n",
        "            embeddings.append(e(x_cat[:,i]))\n",
        "        x = torch.cat(embeddings, 1)\n",
        "        x = self.emb_drop(x)\n",
        "        \n",
        "        x_cont = self.bn_cont(x_cont)\n",
        "        x = torch.cat([x, x_cont], 1)\n",
        "        x = self.layers(x)\n",
        "        return x"
      ],
      "execution_count": 0,
      "outputs": []
    },
    {
      "cell_type": "code",
      "metadata": {
        "id": "LA9G4O4loif0",
        "colab_type": "code",
        "outputId": "b76bff91-58c4-43ff-957f-47a30d86287c",
        "colab": {
          "base_uri": "https://localhost:8080/",
          "height": 364
        }
      },
      "source": [
        "torch.manual_seed(33)\n",
        "model = TabularModel(emb_szs, conts.shape[1], 1, [200,100],p=0.4)\n",
        "model"
      ],
      "execution_count": 0,
      "outputs": [
        {
          "output_type": "execute_result",
          "data": {
            "text/plain": [
              "TabularModel(\n",
              "  (embeds): ModuleList(\n",
              "    (0): Embedding(24, 12)\n",
              "    (1): Embedding(2, 1)\n",
              "    (2): Embedding(7, 4)\n",
              "  )\n",
              "  (emb_drop): Dropout(p=0.4, inplace=False)\n",
              "  (bn_cont): BatchNorm1d(6, eps=1e-05, momentum=0.1, affine=True, track_running_stats=True)\n",
              "  (layers): Sequential(\n",
              "    (0): Linear(in_features=23, out_features=200, bias=True)\n",
              "    (1): ReLU(inplace=True)\n",
              "    (2): BatchNorm1d(200, eps=1e-05, momentum=0.1, affine=True, track_running_stats=True)\n",
              "    (3): Dropout(p=0.4, inplace=False)\n",
              "    (4): Linear(in_features=200, out_features=100, bias=True)\n",
              "    (5): ReLU(inplace=True)\n",
              "    (6): BatchNorm1d(100, eps=1e-05, momentum=0.1, affine=True, track_running_stats=True)\n",
              "    (7): Dropout(p=0.4, inplace=False)\n",
              "    (8): Linear(in_features=100, out_features=1, bias=True)\n",
              "  )\n",
              ")"
            ]
          },
          "metadata": {
            "tags": []
          },
          "execution_count": 60
        }
      ]
    },
    {
      "cell_type": "code",
      "metadata": {
        "id": "F48y3yasoif5",
        "colab_type": "code",
        "colab": {}
      },
      "source": [
        "criterion = nn.MSELoss()  # we'll convert this to RMSE later\n",
        "optimizer = torch.optim.Adam(model.parameters(), lr=0.001)"
      ],
      "execution_count": 0,
      "outputs": []
    },
    {
      "cell_type": "code",
      "metadata": {
        "id": "hcNE2czAoif9",
        "colab_type": "code",
        "colab": {}
      },
      "source": [
        "batch_size = 60000\n",
        "test_size = int(batch_size * .2)\n",
        "\n",
        "cat_train = cats[:batch_size-test_size]\n",
        "cat_test = cats[batch_size-test_size:batch_size]\n",
        "con_train = conts[:batch_size-test_size]\n",
        "con_test = conts[batch_size-test_size:batch_size]\n",
        "y_train = y[:batch_size-test_size]\n",
        "y_test = y[batch_size-test_size:batch_size]"
      ],
      "execution_count": 0,
      "outputs": []
    },
    {
      "cell_type": "code",
      "metadata": {
        "id": "sJAL7BI0oigE",
        "colab_type": "code",
        "outputId": "d4ae166e-9f2f-481e-fa7b-1dbd264cc6e2",
        "colab": {
          "base_uri": "https://localhost:8080/",
          "height": 278
        }
      },
      "source": [
        "import time\n",
        "start_time = time.time()\n",
        "\n",
        "epochs = 300\n",
        "losses = []\n",
        "\n",
        "for i in range(epochs):\n",
        "    i+=1\n",
        "    y_pred = model(cat_train, con_train)\n",
        "    loss = torch.sqrt(criterion(y_pred, y_train)) # RMSE\n",
        "    losses.append(loss)\n",
        "    \n",
        "    # a neat trick to save screen space:\n",
        "    if i%25 == 1:\n",
        "        print(f'epoch: {i:3}  loss: {loss.item():10.8f}')\n",
        "\n",
        "    optimizer.zero_grad()\n",
        "    loss.backward()\n",
        "    optimizer.step()\n",
        "\n",
        "print(f'epoch: {i:3}  loss: {loss.item():10.8f}') # print the last line\n",
        "print(f'\\nDuration: {time.time() - start_time:.0f} seconds') # print the time elapsed"
      ],
      "execution_count": 0,
      "outputs": [
        {
          "output_type": "stream",
          "text": [
            "epoch:   1  loss: 12.59199619\n",
            "epoch:  26  loss: 11.05552101\n",
            "epoch:  51  loss: 10.39526558\n",
            "epoch:  76  loss: 9.85915184\n",
            "epoch: 101  loss: 9.19603348\n",
            "epoch: 126  loss: 8.36261368\n",
            "epoch: 151  loss: 7.29208565\n",
            "epoch: 176  loss: 6.09645700\n",
            "epoch: 201  loss: 4.91176224\n",
            "epoch: 226  loss: 4.15342760\n",
            "epoch: 251  loss: 3.85278440\n",
            "epoch: 276  loss: 3.77879143\n",
            "epoch: 300  loss: 3.71119571\n",
            "\n",
            "Duration: 395 seconds\n"
          ],
          "name": "stdout"
        }
      ]
    },
    {
      "cell_type": "code",
      "metadata": {
        "id": "r_iIGycIoigK",
        "colab_type": "code",
        "outputId": "9498d97b-7e57-4cd3-fe9a-dd13f67b9b6e",
        "colab": {
          "base_uri": "https://localhost:8080/",
          "height": 279
        }
      },
      "source": [
        "plt.plot(range(epochs), losses)\n",
        "plt.ylabel('RMSE Loss')\n",
        "plt.xlabel('epoch');"
      ],
      "execution_count": 0,
      "outputs": [
        {
          "output_type": "display_data",
          "data": {
            "image/png": "[encoded data removed]",
            "text/plain": [
              "<Figure size 432x288 with 1 Axes>"
            ]
          },
          "metadata": {
            "tags": []
          }
        }
      ]
    },
    {
      "cell_type": "code",
      "metadata": {
        "id": "9Y74k7ytoigh",
        "colab_type": "code",
        "outputId": "9d8e7ce7-3867-4e33-8360-4b1f22bd41cb",
        "colab": {
          "base_uri": "https://localhost:8080/",
          "height": 34
        }
      },
      "source": [
        "# TO EVALUATE THE ENTIRE TEST SET\n",
        "with torch.no_grad():\n",
        "    y_val = model(cat_test, con_test)\n",
        "    loss = torch.sqrt(criterion(y_val, y_test))\n",
        "print(f'RMSE: {loss:.8f}')"
      ],
      "execution_count": 0,
      "outputs": [
        {
          "output_type": "stream",
          "text": [
            "RMSE: 3.62655997\n"
          ],
          "name": "stdout"
        }
      ]
    },
    {
      "cell_type": "code",
      "metadata": {
        "id": "jrKME0Ceoigo",
        "colab_type": "code",
        "outputId": "2f90a80d-273b-4d91-e5d1-1925717acf15",
        "colab": {
          "base_uri": "https://localhost:8080/",
          "height": 903
        }
      },
      "source": [
        "print(f'{\"PREDICTED\":>12} {\"ACTUAL\":>8} {\"DIFF\":>8}')\n",
        "for i in range(50):\n",
        "    diff = np.abs(y_val[i].item()-y_test[i].item())\n",
        "    print(f'{i+1:2}. {y_val[i].item():8.4f} {y_test[i].item():8.4f} {diff:8.4f}')"
      ],
      "execution_count": 0,
      "outputs": [
        {
          "output_type": "stream",
          "text": [
            "   PREDICTED   ACTUAL     DIFF\n",
            " 1.   6.3261   2.9000   3.4261\n",
            " 2.  14.4729   5.7000   8.7729\n",
            " 3.   7.8827   7.7000   0.1827\n",
            " 4.  12.1304  12.5000   0.3696\n",
            " 5.   6.9880   4.1000   2.8880\n",
            " 6.   6.5131   5.3000   1.2131\n",
            " 7.   4.3076   3.7000   0.6076\n",
            " 8.  14.6324  14.5000   0.1324\n",
            " 9.   4.1864   5.7000   1.5136\n",
            "10.  14.9241  10.1000   4.8241\n",
            "11.   6.7144   4.5000   2.2144\n",
            "12.   3.8025   6.1000   2.2975\n",
            "13.   4.4368   6.9000   2.4632\n",
            "14.   7.3570  14.1000   6.7430\n",
            "15.   5.7535   4.5000   1.2535\n",
            "16.  37.6877  34.1000   3.5877\n",
            "17.   3.4248  12.5000   9.0752\n",
            "18.   6.4376   4.1000   2.3376\n",
            "19.   8.1741   8.5000   0.3259\n",
            "20.   4.1920   5.3000   1.1080\n",
            "21.  16.2710  11.3000   4.9710\n",
            "22.  12.3898  10.5000   1.8898\n",
            "23.  18.3446  15.3000   3.0446\n",
            "24.  17.6533  14.9000   2.7533\n",
            "25.  40.8819  49.5700   8.6881\n",
            "26.   1.8748   5.3000   3.4252\n",
            "27.   5.7768   3.7000   2.0768\n",
            "28.   5.8310   6.5000   0.6690\n",
            "29.  12.4794  14.1000   1.6206\n",
            "30.   3.7834   4.9000   1.1166\n",
            "31.   4.6100   3.7000   0.9100\n",
            "32.  33.1805  38.6700   5.4895\n",
            "33.  13.3992  12.5000   0.8992\n",
            "34.  14.2568  16.5000   2.2432\n",
            "35.   4.4508   5.7000   1.2492\n",
            "36.   8.9454   8.9000   0.0454\n",
            "37.  19.7255  22.1000   2.3745\n",
            "38.   8.3140  12.1000   3.7860\n",
            "39.  12.3583  10.1000   2.2583\n",
            "40.   4.3721   3.3000   1.0721\n",
            "41.  10.4320   8.5000   1.9320\n",
            "42.   7.8851   8.1000   0.2149\n",
            "43.   8.0230  14.5000   6.4770\n",
            "44.   8.2478   4.9000   3.3478\n",
            "45.   4.5994   8.5000   3.9006\n",
            "46.  11.6597  12.1000   0.4403\n",
            "47.  19.3123  23.7000   4.3877\n",
            "48.   6.3303   3.7000   2.6303\n",
            "49.   6.7914   9.3000   2.5086\n",
            "50.   7.7852   8.1000   0.3148\n"
          ],
          "name": "stdout"
        }
      ]
    },
    {
      "cell_type": "code",
      "metadata": {
        "id": "gOrRAKWHoigt",
        "colab_type": "code",
        "colab": {}
      },
      "source": [
        "# Make sure to save the model only after the training has happened!\n",
        "if len(losses) == epochs:\n",
        "    torch.save(model.state_dict(), 'Data/My Drive/TaxiFareRegrModel.pt')\n",
        "else:\n",
        "    print('Model has not been trained. Consider loading a trained model instead.')"
      ],
      "execution_count": 0,
      "outputs": []
    },
    {
      "cell_type": "code",
      "metadata": {
        "id": "RqY465TQoig0",
        "colab_type": "code",
        "colab": {}
      },
      "source": [
        "import torch\n",
        "import torch.nn as nn\n",
        "import numpy as np\n",
        "import pandas as pd\n",
        "\n",
        "def haversine_distance(df, lat1, long1, lat2, long2):\n",
        "    r = 6371\n",
        "    phi1 = np.radians(df[lat1])\n",
        "    phi2 = np.radians(df[lat2])\n",
        "    delta_phi = np.radians(df[lat2]-df[lat1])\n",
        "    delta_lambda = np.radians(df[long2]-df[long1])\n",
        "    a = np.sin(delta_phi/2)**2 + np.cos(phi1) * np.cos(phi2) * np.sin(delta_lambda/2)**2\n",
        "    c = 2 * np.arctan2(np.sqrt(a), np.sqrt(1-a))\n",
        "    return r * c\n",
        "\n",
        "class TabularModel(nn.Module):\n",
        "    def __init__(self, emb_szs, n_cont, out_sz, layers, p=0.5):\n",
        "        super().__init__()\n",
        "        self.embeds = nn.ModuleList([nn.Embedding(ni, nf) for ni,nf in emb_szs])\n",
        "        self.emb_drop = nn.Dropout(p)\n",
        "        self.bn_cont = nn.BatchNorm1d(n_cont)\n",
        "        layerlist = []\n",
        "        n_emb = sum((nf for ni,nf in emb_szs))\n",
        "        n_in = n_emb + n_cont\n",
        "        for i in layers:\n",
        "            layerlist.append(nn.Linear(n_in,i)) \n",
        "            layerlist.append(nn.ReLU(inplace=True))\n",
        "            layerlist.append(nn.BatchNorm1d(i))\n",
        "            layerlist.append(nn.Dropout(p))\n",
        "            n_in = i\n",
        "        layerlist.append(nn.Linear(layers[-1],out_sz))\n",
        "        self.layers = nn.Sequential(*layerlist)\n",
        "    def forward(self, x_cat, x_cont):\n",
        "        embeddings = []\n",
        "        for i,e in enumerate(self.embeds):\n",
        "            embeddings.append(e(x_cat[:,i]))\n",
        "        x = torch.cat(embeddings, 1)\n",
        "        x = self.emb_drop(x)\n",
        "        x_cont = self.bn_cont(x_cont)\n",
        "        x = torch.cat([x, x_cont], 1)\n",
        "        return self.layers(x)"
      ],
      "execution_count": 0,
      "outputs": []
    },
    {
      "cell_type": "code",
      "metadata": {
        "id": "T3oleEhioig9",
        "colab_type": "code",
        "colab": {}
      },
      "source": [
        "emb_szs = [(24, 12), (2, 1), (7, 4)]\n",
        "model2 = TabularModel(emb_szs, 6, 1, [200,100], p=0.4)"
      ],
      "execution_count": 0,
      "outputs": []
    },
    {
      "cell_type": "code",
      "metadata": {
        "id": "i_LQErsAoihB",
        "colab_type": "code",
        "outputId": "6b3c4b00-6ba8-4899-abfe-cc468847813b",
        "colab": {
          "base_uri": "https://localhost:8080/",
          "height": 364
        }
      },
      "source": [
        "model2.load_state_dict(torch.load('TaxiFareRegrModel.pt'));\n",
        "model2.eval() # be sure to run this step!"
      ],
      "execution_count": 0,
      "outputs": [
        {
          "output_type": "execute_result",
          "data": {
            "text/plain": [
              "TabularModel(\n",
              "  (embeds): ModuleList(\n",
              "    (0): Embedding(24, 12)\n",
              "    (1): Embedding(2, 1)\n",
              "    (2): Embedding(7, 4)\n",
              "  )\n",
              "  (emb_drop): Dropout(p=0.4, inplace=False)\n",
              "  (bn_cont): BatchNorm1d(6, eps=1e-05, momentum=0.1, affine=True, track_running_stats=True)\n",
              "  (layers): Sequential(\n",
              "    (0): Linear(in_features=23, out_features=200, bias=True)\n",
              "    (1): ReLU(inplace=True)\n",
              "    (2): BatchNorm1d(200, eps=1e-05, momentum=0.1, affine=True, track_running_stats=True)\n",
              "    (3): Dropout(p=0.4, inplace=False)\n",
              "    (4): Linear(in_features=200, out_features=100, bias=True)\n",
              "    (5): ReLU(inplace=True)\n",
              "    (6): BatchNorm1d(100, eps=1e-05, momentum=0.1, affine=True, track_running_stats=True)\n",
              "    (7): Dropout(p=0.4, inplace=False)\n",
              "    (8): Linear(in_features=100, out_features=1, bias=True)\n",
              "  )\n",
              ")"
            ]
          },
          "metadata": {
            "tags": []
          },
          "execution_count": 70
        }
      ]
    },
    {
      "cell_type": "code",
      "metadata": {
        "id": "aT44nAKdoihI",
        "colab_type": "code",
        "colab": {}
      },
      "source": [
        "def test_data(mdl): # pass in the name of the new model\n",
        "    # INPUT NEW DATA\n",
        "    plat = float(input('What is the pickup latitude?  '))\n",
        "    plong = float(input('What is the pickup longitude? '))\n",
        "    dlat = float(input('What is the dropoff latitude?  '))\n",
        "    dlong = float(input('What is the dropoff longitude? '))\n",
        "    psngr = int(input('How many passengers? '))\n",
        "    dt = input('What is the pickup date and time?\\nFormat as YYYY-MM-DD HH:MM:SS     ')\n",
        "    \n",
        "    # PREPROCESS THE DATA\n",
        "    dfx_dict = {'pickup_latitude':plat,'pickup_longitude':plong,'dropoff_latitude':dlat,\n",
        "         'dropoff_longitude':dlong,'passenger_count':psngr,'EDTdate':dt}\n",
        "    dfx = pd.DataFrame(dfx_dict, index=[0])\n",
        "    dfx['dist_km'] = haversine_distance(dfx,'pickup_latitude', 'pickup_longitude',\n",
        "                                        'dropoff_latitude', 'dropoff_longitude')\n",
        "    dfx['EDTdate'] = pd.to_datetime(dfx['EDTdate'])\n",
        "    \n",
        "    # We can skip the .astype(category) step since our fields are small,\n",
        "    # and encode them right away\n",
        "    dfx['Hour'] = dfx['EDTdate'].dt.hour\n",
        "    dfx['AMorPM'] = np.where(dfx['Hour']<12,0,1) \n",
        "    dfx['Weekday'] = dfx['EDTdate'].dt.strftime(\"%a\")\n",
        "    dfx['Weekday'] = dfx['Weekday'].replace(['Fri','Mon','Sat','Sun','Thu','Tue','Wed'],\n",
        "                                            [0,1,2,3,4,5,6]).astype('int64')\n",
        "    # CREATE CAT AND CONT TENSORS\n",
        "    cat_cols = ['Hour', 'AMorPM', 'Weekday']\n",
        "    cont_cols = ['pickup_latitude', 'pickup_longitude', 'dropoff_latitude',\n",
        "                 'dropoff_longitude', 'passenger_count', 'dist_km']\n",
        "    xcats = np.stack([dfx[col].values for col in cat_cols], 1)\n",
        "    xcats = torch.tensor(xcats, dtype=torch.int64)\n",
        "    xconts = np.stack([dfx[col].values for col in cont_cols], 1)\n",
        "    xconts = torch.tensor(xconts, dtype=torch.float)\n",
        "    \n",
        "    # PASS NEW DATA THROUGH THE MODEL WITHOUT PERFORMING A BACKPROP\n",
        "    with torch.no_grad():\n",
        "        z = mdl(xcats, xconts)\n",
        "    print(f'\\nThe predicted fare amount is ${z.item():.2f}')"
      ],
      "execution_count": 0,
      "outputs": []
    },
    {
      "cell_type": "code",
      "metadata": {
        "id": "o2eztiP_oihN",
        "colab_type": "code",
        "outputId": "8f9d6e62-d164-4fa4-e604-90a46218d36d",
        "colab": {
          "base_uri": "https://localhost:8080/",
          "height": 173
        }
      },
      "source": [
        "z = test_data(model2)"
      ],
      "execution_count": 0,
      "outputs": [
        {
          "output_type": "stream",
          "text": [
            "What is the pickup latitude?  4.257885\n",
            "What is the pickup longitude? 7.2545\n",
            "What is the dropoff latitude?  4.28\n",
            "What is the dropoff longitude? 8.25\n",
            "How many passengers? 4\n",
            "What is the pickup date and time?\n",
            "Format as YYYY-MM-DD HH:MM:SS     01:40:4\n",
            "\n",
            "The predicted fare amount is $2380.52\n"
          ],
          "name": "stdout"
        }
      ]
    },
    {
      "cell_type": "code",
      "metadata": {
        "id": "c6IiM7Z3oihR",
        "colab_type": "code",
        "colab": {}
      },
      "source": [
        ""
      ],
      "execution_count": 0,
      "outputs": []
    }
  ]
}